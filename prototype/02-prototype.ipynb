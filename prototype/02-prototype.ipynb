{
 "cells": [
  {
   "cell_type": "markdown",
   "metadata": {},
   "source": [
    "# Model Prototyping"
   ]
  },
  {
   "cell_type": "code",
   "execution_count": 1,
   "metadata": {},
   "outputs": [],
   "source": [
    "import pandas as pd\n",
    "import os\n",
    "import numpy as np"
   ]
  },
  {
   "cell_type": "code",
   "execution_count": 2,
   "metadata": {},
   "outputs": [],
   "source": [
    "np.random.seed(103)"
   ]
  },
  {
   "cell_type": "markdown",
   "metadata": {},
   "source": [
    "# Model Training"
   ]
  },
  {
   "cell_type": "code",
   "execution_count": 3,
   "metadata": {},
   "outputs": [],
   "source": [
    "import spacy"
   ]
  },
  {
   "cell_type": "code",
   "execution_count": 4,
   "metadata": {},
   "outputs": [],
   "source": [
    "nlp = spacy.load('en_core_web_md')"
   ]
  },
  {
   "cell_type": "code",
   "execution_count": 5,
   "metadata": {},
   "outputs": [],
   "source": [
    "def tokenizer_lemma(sentence):\n",
    "    return [token.lemma_ for token in nlp(sentence)]"
   ]
  },
  {
   "cell_type": "code",
   "execution_count": 6,
   "metadata": {},
   "outputs": [],
   "source": [
    "def tokenizer(sentence):\n",
    "    return sentence.split()"
   ]
  },
  {
   "cell_type": "code",
   "execution_count": 7,
   "metadata": {},
   "outputs": [],
   "source": [
    "stop = list(spacy.lang.en.stop_words.STOP_WORDS)"
   ]
  },
  {
   "cell_type": "markdown",
   "metadata": {},
   "source": [
    "## Load the Data"
   ]
  },
  {
   "cell_type": "code",
   "execution_count": 8,
   "metadata": {},
   "outputs": [],
   "source": [
    "df = pd.read_csv(\"../datalake/feed/version_2020-04-04.csv\")"
   ]
  },
  {
   "cell_type": "code",
   "execution_count": 9,
   "metadata": {},
   "outputs": [
    {
     "data": {
      "text/html": [
       "<div>\n",
       "<style scoped>\n",
       "    .dataframe tbody tr th:only-of-type {\n",
       "        vertical-align: middle;\n",
       "    }\n",
       "\n",
       "    .dataframe tbody tr th {\n",
       "        vertical-align: top;\n",
       "    }\n",
       "\n",
       "    .dataframe thead th {\n",
       "        text-align: right;\n",
       "    }\n",
       "</style>\n",
       "<table border=\"1\" class=\"dataframe\">\n",
       "  <thead>\n",
       "    <tr style=\"text-align: right;\">\n",
       "      <th></th>\n",
       "      <th>_id</th>\n",
       "      <th>review_text</th>\n",
       "      <th>pruned_rating</th>\n",
       "    </tr>\n",
       "  </thead>\n",
       "  <tbody>\n",
       "    <tr>\n",
       "      <th>0</th>\n",
       "      <td>A1ZRXGT8QJXGET</td>\n",
       "      <td>easily installed on my parlor guitar the oval ...</td>\n",
       "      <td>2</td>\n",
       "    </tr>\n",
       "    <tr>\n",
       "      <th>1</th>\n",
       "      <td>AOY459LVUBKLO</td>\n",
       "      <td>so far still made in america i have been using...</td>\n",
       "      <td>2</td>\n",
       "    </tr>\n",
       "    <tr>\n",
       "      <th>2</th>\n",
       "      <td>A34WEXT7SIRFE4</td>\n",
       "      <td>these cans were decent back when they were jus...</td>\n",
       "      <td>0</td>\n",
       "    </tr>\n",
       "    <tr>\n",
       "      <th>3</th>\n",
       "      <td>A2N7F3MVCTAOYP</td>\n",
       "      <td>i had purchased one a while back for my electr...</td>\n",
       "      <td>2</td>\n",
       "    </tr>\n",
       "    <tr>\n",
       "      <th>4</th>\n",
       "      <td>A1LH6RF4UN9VI6</td>\n",
       "      <td>i ve tried these out in head to head excuse th...</td>\n",
       "      <td>2</td>\n",
       "    </tr>\n",
       "  </tbody>\n",
       "</table>\n",
       "</div>"
      ],
      "text/plain": [
       "              _id                                        review_text  \\\n",
       "0  A1ZRXGT8QJXGET  easily installed on my parlor guitar the oval ...   \n",
       "1   AOY459LVUBKLO  so far still made in america i have been using...   \n",
       "2  A34WEXT7SIRFE4  these cans were decent back when they were jus...   \n",
       "3  A2N7F3MVCTAOYP  i had purchased one a while back for my electr...   \n",
       "4  A1LH6RF4UN9VI6  i ve tried these out in head to head excuse th...   \n",
       "\n",
       "   pruned_rating  \n",
       "0              2  \n",
       "1              2  \n",
       "2              0  \n",
       "3              2  \n",
       "4              2  "
      ]
     },
     "execution_count": 9,
     "metadata": {},
     "output_type": "execute_result"
    }
   ],
   "source": [
    "df.head()"
   ]
  },
  {
   "cell_type": "code",
   "execution_count": 10,
   "metadata": {},
   "outputs": [
    {
     "data": {
      "text/plain": [
       "pruned_rating\n",
       "0    9015\n",
       "1    9015\n",
       "2    9015\n",
       "dtype: int64"
      ]
     },
     "execution_count": 10,
     "metadata": {},
     "output_type": "execute_result"
    }
   ],
   "source": [
    "df.groupby([\"pruned_rating\"]).size()"
   ]
  },
  {
   "cell_type": "code",
   "execution_count": 11,
   "metadata": {},
   "outputs": [
    {
     "data": {
      "text/plain": [
       "(27045, 3)"
      ]
     },
     "execution_count": 11,
     "metadata": {},
     "output_type": "execute_result"
    }
   ],
   "source": [
    "df.shape"
   ]
  },
  {
   "cell_type": "code",
   "execution_count": 12,
   "metadata": {},
   "outputs": [],
   "source": [
    "# def train_test_split(input_df, pct):\n",
    "#     train_rows = int(input_df.shape[0]*(1-pct))\n",
    "#     x_train = df.loc[:train_rows, 'review_text'] #.values\n",
    "#     y_train = df.loc[:train_rows, 'pruned_rating']#.values\n",
    "#     x_test = df.loc[train_rows:, 'review_text']#.values\n",
    "#     y_test = df.loc[train_rows:, 'pruned_rating']#.values\n",
    "#     return x_train, y_train, x_test, y_test\n",
    "\n",
    "# X_train, y_train, X_test, y_test = train_test_split(df, 0.3)"
   ]
  },
  {
   "cell_type": "code",
   "execution_count": 13,
   "metadata": {},
   "outputs": [],
   "source": [
    "# y_train.value_counts()"
   ]
  },
  {
   "cell_type": "code",
   "execution_count": 14,
   "metadata": {},
   "outputs": [],
   "source": [
    "def train_test_split(input_df, pct):\n",
    "    train_rows = int(input_df.shape[0]*(1-pct))\n",
    "    x_train = df.loc[:train_rows, 'review_text'].values\n",
    "    y_train = df.loc[:train_rows, 'pruned_rating'].values\n",
    "    x_test = df.loc[train_rows:, 'review_text'].values\n",
    "    y_test = df.loc[train_rows:, 'pruned_rating'].values\n",
    "    return x_train, y_train, x_test, y_test"
   ]
  },
  {
   "cell_type": "code",
   "execution_count": 15,
   "metadata": {},
   "outputs": [],
   "source": [
    "X_train, y_train, X_test, y_test = train_test_split(df, 0.3)\n",
    "# X_train, y_train, X_test, y_test = train_test_split(df, 0.95)"
   ]
  },
  {
   "cell_type": "code",
   "execution_count": 16,
   "metadata": {},
   "outputs": [],
   "source": [
    "from sklearn.pipeline import Pipeline\n",
    "from sklearn.linear_model import LogisticRegression\n",
    "from sklearn.feature_extraction.text import TfidfVectorizer\n",
    "from sklearn.model_selection import GridSearchCV\n",
    "from sklearn.metrics import f1_score, make_scorer\n",
    "from sklearn.svm import SVC"
   ]
  },
  {
   "cell_type": "code",
   "execution_count": 17,
   "metadata": {},
   "outputs": [],
   "source": [
    "tfidf = TfidfVectorizer(\n",
    "    strip_accents=None,\n",
    "    lowercase=False,\n",
    "    preprocessor=None\n",
    ")\n",
    "\n",
    "scorer = make_scorer(score_func=f1_score, greater_is_better=True, average=\"micro\")"
   ]
  },
  {
   "cell_type": "code",
   "execution_count": 18,
   "metadata": {},
   "outputs": [],
   "source": [
    "param_range = [0.001, 0.01, 0.1, 1.0, 10.0, 100.0]\n",
    "\n",
    "param_grid = [\n",
    "    {'vect__ngram_range': [(1, 1),(1, 2)],\n",
    "     'vect__stop_words': [stop, None],\n",
    "     'vect__tokenizer': [tokenizer, tokenizer_lemma],\n",
    "     'clf__penalty': ['l1', 'l2'],\n",
    "     'clf__C': param_range},\n",
    "    {'vect__ngram_range': [(1, 1),(1, 2)],\n",
    "     'vect__stop_words': [stop, None],\n",
    "     'vect__tokenizer': [tokenizer, tokenizer_lemma],\n",
    "     'vect__use_idf':[False],\n",
    "     'vect__norm':[None],\n",
    "     'clf__penalty': ['l1', 'l2'],\n",
    "     'clf__C': param_range},\n",
    "]"
   ]
  },
  {
   "cell_type": "code",
   "execution_count": 19,
   "metadata": {},
   "outputs": [],
   "source": [
    "lr_tfidf = Pipeline(\n",
    "    [('vect', tfidf),\n",
    "     ('clf', LogisticRegression(random_state=1, solver='liblinear'))\n",
    "    ]\n",
    ")"
   ]
  },
  {
   "cell_type": "code",
   "execution_count": 20,
   "metadata": {},
   "outputs": [],
   "source": [
    "gs_lr_tfidf = GridSearchCV(\n",
    "    estimator=lr_tfidf, \n",
    "    param_grid=param_grid,\n",
    "    scoring=scorer,\n",
    "    cv=7,\n",
    "    verbose=2,\n",
    "    n_jobs=-1\n",
    ")"
   ]
  },
  {
   "cell_type": "code",
   "execution_count": 21,
   "metadata": {},
   "outputs": [
    {
     "name": "stdout",
     "output_type": "stream",
     "text": [
      "Fitting 7 folds for each of 192 candidates, totalling 1344 fits\n"
     ]
    },
    {
     "name": "stderr",
     "output_type": "stream",
     "text": [
      "[Parallel(n_jobs=-1)]: Using backend LokyBackend with 8 concurrent workers.\n",
      "[Parallel(n_jobs=-1)]: Done  25 tasks      | elapsed:  2.1min\n",
      "[Parallel(n_jobs=-1)]: Done 146 tasks      | elapsed: 13.3min\n",
      "[Parallel(n_jobs=-1)]: Done 349 tasks      | elapsed: 31.7min\n",
      "[Parallel(n_jobs=-1)]: Done 632 tasks      | elapsed: 56.2min\n",
      "[Parallel(n_jobs=-1)]: Done 997 tasks      | elapsed: 87.9min\n",
      "[Parallel(n_jobs=-1)]: Done 1344 out of 1344 | elapsed: 120.2min finished\n"
     ]
    },
    {
     "data": {
      "text/plain": [
       "GridSearchCV(cv=7, error_score=nan,\n",
       "             estimator=Pipeline(memory=None,\n",
       "                                steps=[('vect',\n",
       "                                        TfidfVectorizer(analyzer='word',\n",
       "                                                        binary=False,\n",
       "                                                        decode_error='strict',\n",
       "                                                        dtype=<class 'numpy.float64'>,\n",
       "                                                        encoding='utf-8',\n",
       "                                                        input='content',\n",
       "                                                        lowercase=False,\n",
       "                                                        max_df=1.0,\n",
       "                                                        max_features=None,\n",
       "                                                        min_df=1,\n",
       "                                                        ngram_range=(1, 1),\n",
       "                                                        norm='l2',\n",
       "                                                        preprocessor=None,\n",
       "                                                        smooth_idf=True,\n",
       "                                                        stop_words=None,\n",
       "                                                        strip_acc...\n",
       "                                                'on', 'over', 'why', 'may',\n",
       "                                                'against', 'rather', 'less',\n",
       "                                                'another', 'enough', 'everyone',\n",
       "                                                'very', 'few', 'either', ...],\n",
       "                                               None],\n",
       "                          'vect__tokenizer': [<function tokenizer at 0x7f948660c710>,\n",
       "                                              <function tokenizer_lemma at 0x7f948660c320>],\n",
       "                          'vect__use_idf': [False]}],\n",
       "             pre_dispatch='2*n_jobs', refit=True, return_train_score=False,\n",
       "             scoring=make_scorer(f1_score, pos_label=1, average=micro),\n",
       "             verbose=2)"
      ]
     },
     "execution_count": 21,
     "metadata": {},
     "output_type": "execute_result"
    }
   ],
   "source": [
    "gs_lr_tfidf.fit(X_train, y_train)"
   ]
  },
  {
   "cell_type": "code",
   "execution_count": 22,
   "metadata": {},
   "outputs": [
    {
     "name": "stdout",
     "output_type": "stream",
     "text": [
      "Best parameter set: {'clf__C': 100.0, 'clf__penalty': 'l2', 'vect__ngram_range': (1, 2), 'vect__stop_words': None, 'vect__tokenizer': <function tokenizer at 0x7f948660c710>} \n",
      "CV Accuracy: 0.985\n"
     ]
    }
   ],
   "source": [
    "print('Best parameter set: %s ' % gs_lr_tfidf.best_params_)\n",
    "print('CV Accuracy: %.3f' % gs_lr_tfidf.best_score_)"
   ]
  },
  {
   "cell_type": "code",
   "execution_count": 48,
   "metadata": {},
   "outputs": [
    {
     "name": "stdout",
     "output_type": "stream",
     "text": [
      "F1 Score: 0.988\n"
     ]
    }
   ],
   "source": [
    "clf = gs_lr_tfidf.best_estimator_\n",
    "print('F1 Score: %.3f' % clf.score(X_test, y_test))"
   ]
  },
  {
   "cell_type": "code",
   "execution_count": 49,
   "metadata": {},
   "outputs": [
    {
     "data": {
      "text/plain": [
       "{'clf__C': 100.0,\n",
       " 'clf__penalty': 'l2',\n",
       " 'vect__ngram_range': (1, 2),\n",
       " 'vect__stop_words': None,\n",
       " 'vect__tokenizer': <function __main__.tokenizer(sentence)>}"
      ]
     },
     "execution_count": 49,
     "metadata": {},
     "output_type": "execute_result"
    }
   ],
   "source": [
    "gs_lr_tfidf.best_params_"
   ]
  },
  {
   "cell_type": "code",
   "execution_count": 24,
   "metadata": {},
   "outputs": [],
   "source": [
    "param_grid = [\n",
    "    {'vect__ngram_range': ((1, 1), (1, 2)),  # unigrams or bigrams\n",
    "     'vect__tokenizer': [tokenizer, tokenizer_lemma],\n",
    "     'vect__stop_words': [stop, None],\n",
    "     'svc__C': param_range,\n",
    "     'svc__kernel': ['linear']\n",
    "    },\n",
    "    {'vect__ngram_range': ((1, 1), (1, 2)),  # unigrams or bigrams\n",
    "     'vect__tokenizer': [tokenizer, tokenizer_lemma],\n",
    "     'vect__stop_words': [stop, None],\n",
    "     'svc__gamma': param_range,\n",
    "     'svc__C': param_range,\n",
    "     'svc__kernel': ['rbf']\n",
    "    },\n",
    "]\n",
    "\n",
    "\n",
    "svc_tfidf = Pipeline([\n",
    "    (\"vect\", tfidf), \n",
    "    (\"svc\", SVC(random_state=1))\n",
    "])"
   ]
  },
  {
   "cell_type": "code",
   "execution_count": 25,
   "metadata": {},
   "outputs": [],
   "source": [
    "# Construct our grid search object\n",
    "gs_svc_tfidf = GridSearchCV(\n",
    "    estimator=svc_tfidf, \n",
    "    param_grid=param_grid,\n",
    "    scoring=scorer,\n",
    "    cv=7, \n",
    "    verbose=2, \n",
    "    n_jobs=-1\n",
    ")"
   ]
  },
  {
   "cell_type": "code",
   "execution_count": 26,
   "metadata": {},
   "outputs": [
    {
     "name": "stdout",
     "output_type": "stream",
     "text": [
      "Fitting 7 folds for each of 336 candidates, totalling 2352 fits\n"
     ]
    },
    {
     "name": "stderr",
     "output_type": "stream",
     "text": [
      "[Parallel(n_jobs=-1)]: Using backend LokyBackend with 8 concurrent workers.\n",
      "[Parallel(n_jobs=-1)]: Done  25 tasks      | elapsed:  8.5min\n",
      "[Parallel(n_jobs=-1)]: Done 146 tasks      | elapsed: 52.3min\n",
      "[Parallel(n_jobs=-1)]: Done 349 tasks      | elapsed: 92.8min\n",
      "[Parallel(n_jobs=-1)]: Done 632 tasks      | elapsed: 207.0min\n",
      "[Parallel(n_jobs=-1)]: Done 997 tasks      | elapsed: 352.7min\n",
      "[Parallel(n_jobs=-1)]: Done 1442 tasks      | elapsed: 529.3min\n",
      "[Parallel(n_jobs=-1)]: Done 1969 tasks      | elapsed: 687.0min\n",
      "[Parallel(n_jobs=-1)]: Done 2352 out of 2352 | elapsed: 788.0min finished\n"
     ]
    },
    {
     "data": {
      "text/plain": [
       "GridSearchCV(cv=7, error_score=nan,\n",
       "             estimator=Pipeline(memory=None,\n",
       "                                steps=[('vect',\n",
       "                                        TfidfVectorizer(analyzer='word',\n",
       "                                                        binary=False,\n",
       "                                                        decode_error='strict',\n",
       "                                                        dtype=<class 'numpy.float64'>,\n",
       "                                                        encoding='utf-8',\n",
       "                                                        input='content',\n",
       "                                                        lowercase=False,\n",
       "                                                        max_df=1.0,\n",
       "                                                        max_features=None,\n",
       "                                                        min_df=1,\n",
       "                                                        ngram_range=(1, 1),\n",
       "                                                        norm='l2',\n",
       "                                                        preprocessor=None,\n",
       "                                                        smooth_idf=True,\n",
       "                                                        stop_words=None,\n",
       "                                                        strip_acc...\n",
       "                                                'my', 'its', 'none', 'always',\n",
       "                                                'on', 'over', 'why', 'may',\n",
       "                                                'against', 'rather', 'less',\n",
       "                                                'another', 'enough', 'everyone',\n",
       "                                                'very', 'few', 'either', ...],\n",
       "                                               None],\n",
       "                          'vect__tokenizer': [<function tokenizer at 0x7f948660c710>,\n",
       "                                              <function tokenizer_lemma at 0x7f948660c320>]}],\n",
       "             pre_dispatch='2*n_jobs', refit=True, return_train_score=False,\n",
       "             scoring=make_scorer(f1_score, pos_label=1, average=micro),\n",
       "             verbose=2)"
      ]
     },
     "execution_count": 26,
     "metadata": {},
     "output_type": "execute_result"
    }
   ],
   "source": [
    "gs_svc_tfidf.fit(X_train, y_train)"
   ]
  },
  {
   "cell_type": "code",
   "execution_count": 27,
   "metadata": {},
   "outputs": [
    {
     "name": "stdout",
     "output_type": "stream",
     "text": [
      "Best parameter set: {'svc__C': 1.0, 'svc__gamma': 10.0, 'svc__kernel': 'rbf', 'vect__ngram_range': (1, 2), 'vect__stop_words': ['nine', 'whole', 'of', 'whatever', 'often', 'sixty', 'bottom', 'our', 'being', 'with', 'a', 'no', 'regarding', 'my', 'its', 'none', 'always', 'on', 'over', 'why', 'may', 'against', 'rather', 'less', 'another', 'enough', 'everyone', 'very', 'few', 'either', 'below', 'now', 'where', 'does', 'down', 'something', 'already', 'next', 'five', 'under', 'neither', 'one', 'via', 'will', 'you', 'six', 'otherwise', 'else', 'behind', 'somehow', 'alone', 'once', 'us', 'they', 'noone', 'beside', 'has', 'all', 'other', 'perhaps', 'unless', 'might', 'whence', 'me', 'herself', 'done', \"'ll\", 'onto', 'had', 'keep', 'same', 'seeming', 'take', 'three', 'amount', 'latter', 'or', 'n’t', 'became', 'while', 'any', 'everywhere', '‘m', 'more', 'made', 'are', 'mine', 'whether', '’m', 'amongst', 'nobody', 'hers', 'out', 'her', 'he', 'about', 'hereby', 'if', 'please', 'first', 'themselves', 'wherever', 'go', 'thereupon', 'hundred', 'by', 'meanwhile', 'up', 'therefore', 'back', 'really', 'much', 'thereby', 'ours', '‘ll', 'four', 'part', 'forty', 'becomes', 'sometime', 'third', 'because', 'sometimes', 'which', 'thru', 'were', '’ve', 'throughout', \"'m\", 'should', 'his', 'myself', 'anyway', 'afterwards', 'above', 'least', '’ll', 'yourself', 'as', 'call', 'so', 'could', '’d', 'at', 'your', 'become', 'therein', 'nothing', 'too', 'whereupon', 'is', 'thence', 'during', 'those', 'somewhere', 'who', 'however', 'fifty', 'hereafter', 'eight', 'itself', 'be', 'i', 'off', 'for', 'give', 'again', 'yet', 'do', 'move', 'hereupon', 'eleven', 'without', 'across', 'due', 'the', 'whoever', 'to', 'whom', 'hence', 'twelve', 'moreover', 'becoming', '’s', 'before', 'never', 'top', 'ourselves', 'them', 'nevertheless', 'latterly', 'whereas', 'make', \"'re\", 'we', 'herein', 'someone', \"n't\", 'cannot', 'until', 'well', 'here', 'per', 'thereafter', 'get', 'though', 'whereafter', '‘d', 'been', 'must', 'himself', 'around', 'there', 'whither', 'but', 'everything', 'full', 'seems', 'their', 'some', 'anything', 'through', 'although', 'nowhere', 'front', 'anywhere', 'towards', 'among', 'own', 'two', 'upon', 'further', 'formerly', 'many', 'just', 'in', 'only', 'can', 'besides', 'and', 'name', 'it', 'others', \"'ve\", 'say', 'side', 'when', 'ca', 'would', 'elsewhere', 'every', 'am', 'each', 'yours', 'several', 'almost', 'into', '‘re', 'also', 'anyone', 'indeed', 'nor', 'was', 'an', 'quite', 'after', 'anyhow', 'since', 'still', 'yourselves', 'except', \"'s\", 'from', 'beforehand', 'beyond', 'used', 'such', '’re', 'have', 'this', 'whenever', 'together', 're', 'even', 'n‘t', 'mostly', 'empty', 'show', 'him', '‘ve', 'did', 'namely', 'wherein', 'most', 'what', 'ever', 'former', 'toward', 'using', 'put', 'than', 'whereby', 'along', 'whose', 'last', 'seemed', 'see', \"'d\", 'these', 'fifteen', 'seem', 'not', 'how', 'ten', 'various', 'doing', 'within', 'both', 'twenty', 'between', 'then', '‘s', 'serious', 'that', 'thus', 'she'], 'vect__tokenizer': <function tokenizer at 0x7f948660c710>} \n",
      "CV Accuracy: 1.000\n"
     ]
    }
   ],
   "source": [
    "print('Best parameter set: %s ' % gs_svc_tfidf.best_params_)\n",
    "print('CV Accuracy: %.3f' % gs_svc_tfidf.best_score_)"
   ]
  },
  {
   "cell_type": "code",
   "execution_count": 50,
   "metadata": {},
   "outputs": [
    {
     "name": "stdout",
     "output_type": "stream",
     "text": [
      "F1 Score: 1.000\n"
     ]
    }
   ],
   "source": [
    "svc = gs_svc_tfidf.best_estimator_\n",
    "print('F1 Score: %.3f' % svc.score(X_test, y_test))"
   ]
  },
  {
   "cell_type": "markdown",
   "metadata": {},
   "source": [
    "# Test Code"
   ]
  },
  {
   "cell_type": "markdown",
   "metadata": {},
   "source": [
    "#### Bag Of Words"
   ]
  },
  {
   "cell_type": "code",
   "execution_count": 29,
   "metadata": {},
   "outputs": [],
   "source": [
    "about_text = ('Gus Proto was a Python developer while ago. But now going to be a rockstars')"
   ]
  },
  {
   "cell_type": "code",
   "execution_count": 30,
   "metadata": {},
   "outputs": [],
   "source": [
    "about_doc = nlp(about_text)"
   ]
  },
  {
   "cell_type": "code",
   "execution_count": 31,
   "metadata": {},
   "outputs": [
    {
     "data": {
      "text/plain": [
       "[Gus Proto was a Python developer while ago., But now going to be a rockstars]"
      ]
     },
     "execution_count": 31,
     "metadata": {},
     "output_type": "execute_result"
    }
   ],
   "source": [
    "list(about_doc.sents)"
   ]
  },
  {
   "cell_type": "code",
   "execution_count": 32,
   "metadata": {},
   "outputs": [],
   "source": [
    "def tokenizer(sentence):\n",
    "    doc = nlp(sentence)\n",
    "    return [token.lemma_ for token in doc]"
   ]
  },
  {
   "cell_type": "code",
   "execution_count": 33,
   "metadata": {},
   "outputs": [
    {
     "data": {
      "text/plain": [
       "['a',\n",
       " 'letter',\n",
       " 'have',\n",
       " 'be',\n",
       " 'write',\n",
       " ',',\n",
       " 'ask',\n",
       " '-PRON-',\n",
       " 'to',\n",
       " 'be',\n",
       " 'release',\n",
       " '!']"
      ]
     },
     "execution_count": 33,
     "metadata": {},
     "output_type": "execute_result"
    }
   ],
   "source": [
    "tokenizer(\"A letter has been written, asking him to be released!\")"
   ]
  }
 ],
 "metadata": {
  "kernelspec": {
   "display_name": "Python 3",
   "language": "python",
   "name": "python3"
  },
  "language_info": {
   "codemirror_mode": {
    "name": "ipython",
    "version": 3
   },
   "file_extension": ".py",
   "mimetype": "text/x-python",
   "name": "python",
   "nbconvert_exporter": "python",
   "pygments_lexer": "ipython3",
   "version": "3.7.7"
  }
 },
 "nbformat": 4,
 "nbformat_minor": 4
}
