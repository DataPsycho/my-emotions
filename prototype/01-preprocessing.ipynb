{
 "cells": [
  {
   "cell_type": "markdown",
   "metadata": {},
   "source": [
    "# Dirty Exploration"
   ]
  },
  {
   "cell_type": "code",
   "execution_count": 1,
   "metadata": {},
   "outputs": [],
   "source": [
    "import pandas as pd\n",
    "import os\n",
    "import numpy as np\n",
    "from datetime import date as dt\n",
    "import re"
   ]
  },
  {
   "cell_type": "code",
   "execution_count": 2,
   "metadata": {},
   "outputs": [],
   "source": [
    "np.random.seed(103)"
   ]
  },
  {
   "cell_type": "markdown",
   "metadata": {},
   "source": [
    "## Data Load"
   ]
  },
  {
   "cell_type": "code",
   "execution_count": 3,
   "metadata": {},
   "outputs": [],
   "source": [
    "colname = {\n",
    "    \"reviewerID\": \"_id\", \n",
    "    \"asin\": \"asin\", \n",
    "    \"reviewerName\": \"reviewer_name\", \n",
    "    \"helpful\": \"helpful\",\n",
    "    \"reviewText\": \"review_text\",\n",
    "    \"overall\": \"overall\",\n",
    "    \"summary\": \"summary\",\n",
    "    \"unixReviewTime\": \"unix_review_time\",\n",
    "    \"reviewTime\": \"review_time\"\n",
    "}\n",
    "df = pd.read_json(\"../datalake/processed/version_2020-04-04.json\").rename(columns=colname)"
   ]
  },
  {
   "cell_type": "code",
   "execution_count": 4,
   "metadata": {},
   "outputs": [
    {
     "data": {
      "text/html": [
       "<div>\n",
       "<style scoped>\n",
       "    .dataframe tbody tr th:only-of-type {\n",
       "        vertical-align: middle;\n",
       "    }\n",
       "\n",
       "    .dataframe tbody tr th {\n",
       "        vertical-align: top;\n",
       "    }\n",
       "\n",
       "    .dataframe thead th {\n",
       "        text-align: right;\n",
       "    }\n",
       "</style>\n",
       "<table border=\"1\" class=\"dataframe\">\n",
       "  <thead>\n",
       "    <tr style=\"text-align: right;\">\n",
       "      <th></th>\n",
       "      <th>_id</th>\n",
       "      <th>asin</th>\n",
       "      <th>reviewer_name</th>\n",
       "      <th>helpful</th>\n",
       "      <th>review_text</th>\n",
       "      <th>overall</th>\n",
       "      <th>summary</th>\n",
       "      <th>unix_review_time</th>\n",
       "      <th>review_time</th>\n",
       "    </tr>\n",
       "  </thead>\n",
       "  <tbody>\n",
       "    <tr>\n",
       "      <th>0</th>\n",
       "      <td>A2IBPI20UZIR0U</td>\n",
       "      <td>1384719342</td>\n",
       "      <td>cassandra tu \"Yeah, well, that's just like, u...</td>\n",
       "      <td>[0, 0]</td>\n",
       "      <td>Not much to write about here, but it does exac...</td>\n",
       "      <td>5</td>\n",
       "      <td>good</td>\n",
       "      <td>1393545600</td>\n",
       "      <td>02 28, 2014</td>\n",
       "    </tr>\n",
       "    <tr>\n",
       "      <th>1</th>\n",
       "      <td>A14VAT5EAX3D9S</td>\n",
       "      <td>1384719342</td>\n",
       "      <td>Jake</td>\n",
       "      <td>[13, 14]</td>\n",
       "      <td>The product does exactly as it should and is q...</td>\n",
       "      <td>5</td>\n",
       "      <td>Jake</td>\n",
       "      <td>1363392000</td>\n",
       "      <td>03 16, 2013</td>\n",
       "    </tr>\n",
       "    <tr>\n",
       "      <th>2</th>\n",
       "      <td>A195EZSQDW3E21</td>\n",
       "      <td>1384719342</td>\n",
       "      <td>Rick Bennette \"Rick Bennette\"</td>\n",
       "      <td>[1, 1]</td>\n",
       "      <td>The primary job of this device is to block the...</td>\n",
       "      <td>5</td>\n",
       "      <td>It Does The Job Well</td>\n",
       "      <td>1377648000</td>\n",
       "      <td>08 28, 2013</td>\n",
       "    </tr>\n",
       "    <tr>\n",
       "      <th>3</th>\n",
       "      <td>A2C00NNG1ZQQG2</td>\n",
       "      <td>1384719342</td>\n",
       "      <td>RustyBill \"Sunday Rocker\"</td>\n",
       "      <td>[0, 0]</td>\n",
       "      <td>Nice windscreen protects my MXL mic and preven...</td>\n",
       "      <td>5</td>\n",
       "      <td>GOOD WINDSCREEN FOR THE MONEY</td>\n",
       "      <td>1392336000</td>\n",
       "      <td>02 14, 2014</td>\n",
       "    </tr>\n",
       "    <tr>\n",
       "      <th>4</th>\n",
       "      <td>A94QU4C90B1AX</td>\n",
       "      <td>1384719342</td>\n",
       "      <td>SEAN MASLANKA</td>\n",
       "      <td>[0, 0]</td>\n",
       "      <td>This pop filter is great. It looks and perform...</td>\n",
       "      <td>5</td>\n",
       "      <td>No more pops when I record my vocals.</td>\n",
       "      <td>1392940800</td>\n",
       "      <td>02 21, 2014</td>\n",
       "    </tr>\n",
       "  </tbody>\n",
       "</table>\n",
       "</div>"
      ],
      "text/plain": [
       "              _id        asin  \\\n",
       "0  A2IBPI20UZIR0U  1384719342   \n",
       "1  A14VAT5EAX3D9S  1384719342   \n",
       "2  A195EZSQDW3E21  1384719342   \n",
       "3  A2C00NNG1ZQQG2  1384719342   \n",
       "4   A94QU4C90B1AX  1384719342   \n",
       "\n",
       "                                      reviewer_name   helpful  \\\n",
       "0  cassandra tu \"Yeah, well, that's just like, u...    [0, 0]   \n",
       "1                                              Jake  [13, 14]   \n",
       "2                     Rick Bennette \"Rick Bennette\"    [1, 1]   \n",
       "3                         RustyBill \"Sunday Rocker\"    [0, 0]   \n",
       "4                                     SEAN MASLANKA    [0, 0]   \n",
       "\n",
       "                                         review_text  overall  \\\n",
       "0  Not much to write about here, but it does exac...        5   \n",
       "1  The product does exactly as it should and is q...        5   \n",
       "2  The primary job of this device is to block the...        5   \n",
       "3  Nice windscreen protects my MXL mic and preven...        5   \n",
       "4  This pop filter is great. It looks and perform...        5   \n",
       "\n",
       "                                 summary  unix_review_time  review_time  \n",
       "0                                   good        1393545600  02 28, 2014  \n",
       "1                                   Jake        1363392000  03 16, 2013  \n",
       "2                   It Does The Job Well        1377648000  08 28, 2013  \n",
       "3          GOOD WINDSCREEN FOR THE MONEY        1392336000  02 14, 2014  \n",
       "4  No more pops when I record my vocals.        1392940800  02 21, 2014  "
      ]
     },
     "execution_count": 4,
     "metadata": {},
     "output_type": "execute_result"
    }
   ],
   "source": [
    "df.head()"
   ]
  },
  {
   "cell_type": "markdown",
   "metadata": {},
   "source": [
    "## Null Check and Length Check"
   ]
  },
  {
   "cell_type": "code",
   "execution_count": 5,
   "metadata": {},
   "outputs": [
    {
     "data": {
      "text/plain": [
       "False"
      ]
     },
     "execution_count": 5,
     "metadata": {},
     "output_type": "execute_result"
    }
   ],
   "source": [
    "df[\"review_text\"].isnull().any()"
   ]
  },
  {
   "cell_type": "code",
   "execution_count": 6,
   "metadata": {},
   "outputs": [],
   "source": [
    "df[\"text_len\"] = df[\"review_text\"].apply(lambda x: len(x))"
   ]
  },
  {
   "cell_type": "code",
   "execution_count": 7,
   "metadata": {},
   "outputs": [],
   "source": [
    "df = df[df[\"text_len\"] != 0]"
   ]
  },
  {
   "cell_type": "code",
   "execution_count": 8,
   "metadata": {},
   "outputs": [
    {
     "data": {
      "text/plain": [
       "count    10254.000000\n",
       "mean       486.260776\n",
       "std        613.514024\n",
       "min          9.000000\n",
       "25%        163.000000\n",
       "50%        285.000000\n",
       "75%        552.000000\n",
       "max      11310.000000\n",
       "Name: text_len, dtype: float64"
      ]
     },
     "execution_count": 8,
     "metadata": {},
     "output_type": "execute_result"
    }
   ],
   "source": [
    "df[\"text_len\"].describe()"
   ]
  },
  {
   "cell_type": "code",
   "execution_count": 9,
   "metadata": {},
   "outputs": [],
   "source": [
    "def preprocessor(text):\n",
    "    \"\"\"Removing http link and non word character at the beginning\"\"\"\n",
    "    emoticons = re.findall('(?::|;|=)(?:-)?(?:\\)|\\(|D|P)', text)\n",
    "    text = re.sub('(?::|;|=)(?:-)?(?:\\)|\\(|D|P)', '', text)\n",
    "    text = re.sub(r'http[s]?://\\S+', '', text)\n",
    "    text = (re.sub('[\\W]+', ' ', text.lower()) +\n",
    "            ' '.join(emoticons).replace('-', ''))\n",
    "    return text"
   ]
  },
  {
   "cell_type": "code",
   "execution_count": 10,
   "metadata": {},
   "outputs": [],
   "source": [
    "df[\"review_text\"] = df[\"review_text\"].apply(preprocessor)"
   ]
  },
  {
   "cell_type": "code",
   "execution_count": 11,
   "metadata": {},
   "outputs": [
    {
     "data": {
      "text/html": [
       "<div>\n",
       "<style scoped>\n",
       "    .dataframe tbody tr th:only-of-type {\n",
       "        vertical-align: middle;\n",
       "    }\n",
       "\n",
       "    .dataframe tbody tr th {\n",
       "        vertical-align: top;\n",
       "    }\n",
       "\n",
       "    .dataframe thead th {\n",
       "        text-align: right;\n",
       "    }\n",
       "</style>\n",
       "<table border=\"1\" class=\"dataframe\">\n",
       "  <thead>\n",
       "    <tr style=\"text-align: right;\">\n",
       "      <th></th>\n",
       "      <th>_id</th>\n",
       "      <th>asin</th>\n",
       "      <th>reviewer_name</th>\n",
       "      <th>helpful</th>\n",
       "      <th>review_text</th>\n",
       "      <th>overall</th>\n",
       "      <th>summary</th>\n",
       "      <th>unix_review_time</th>\n",
       "      <th>review_time</th>\n",
       "      <th>text_len</th>\n",
       "    </tr>\n",
       "  </thead>\n",
       "  <tbody>\n",
       "    <tr>\n",
       "      <th>0</th>\n",
       "      <td>A2IBPI20UZIR0U</td>\n",
       "      <td>1384719342</td>\n",
       "      <td>cassandra tu \"Yeah, well, that's just like, u...</td>\n",
       "      <td>[0, 0]</td>\n",
       "      <td>not much to write about here but it does exact...</td>\n",
       "      <td>5</td>\n",
       "      <td>good</td>\n",
       "      <td>1393545600</td>\n",
       "      <td>02 28, 2014</td>\n",
       "      <td>268</td>\n",
       "    </tr>\n",
       "    <tr>\n",
       "      <th>1</th>\n",
       "      <td>A14VAT5EAX3D9S</td>\n",
       "      <td>1384719342</td>\n",
       "      <td>Jake</td>\n",
       "      <td>[13, 14]</td>\n",
       "      <td>the product does exactly as it should and is q...</td>\n",
       "      <td>5</td>\n",
       "      <td>Jake</td>\n",
       "      <td>1363392000</td>\n",
       "      <td>03 16, 2013</td>\n",
       "      <td>544</td>\n",
       "    </tr>\n",
       "    <tr>\n",
       "      <th>2</th>\n",
       "      <td>A195EZSQDW3E21</td>\n",
       "      <td>1384719342</td>\n",
       "      <td>Rick Bennette \"Rick Bennette\"</td>\n",
       "      <td>[1, 1]</td>\n",
       "      <td>the primary job of this device is to block the...</td>\n",
       "      <td>5</td>\n",
       "      <td>It Does The Job Well</td>\n",
       "      <td>1377648000</td>\n",
       "      <td>08 28, 2013</td>\n",
       "      <td>436</td>\n",
       "    </tr>\n",
       "    <tr>\n",
       "      <th>3</th>\n",
       "      <td>A2C00NNG1ZQQG2</td>\n",
       "      <td>1384719342</td>\n",
       "      <td>RustyBill \"Sunday Rocker\"</td>\n",
       "      <td>[0, 0]</td>\n",
       "      <td>nice windscreen protects my mxl mic and preven...</td>\n",
       "      <td>5</td>\n",
       "      <td>GOOD WINDSCREEN FOR THE MONEY</td>\n",
       "      <td>1392336000</td>\n",
       "      <td>02 14, 2014</td>\n",
       "      <td>206</td>\n",
       "    </tr>\n",
       "    <tr>\n",
       "      <th>4</th>\n",
       "      <td>A94QU4C90B1AX</td>\n",
       "      <td>1384719342</td>\n",
       "      <td>SEAN MASLANKA</td>\n",
       "      <td>[0, 0]</td>\n",
       "      <td>this pop filter is great it looks and performs...</td>\n",
       "      <td>5</td>\n",
       "      <td>No more pops when I record my vocals.</td>\n",
       "      <td>1392940800</td>\n",
       "      <td>02 21, 2014</td>\n",
       "      <td>159</td>\n",
       "    </tr>\n",
       "  </tbody>\n",
       "</table>\n",
       "</div>"
      ],
      "text/plain": [
       "              _id        asin  \\\n",
       "0  A2IBPI20UZIR0U  1384719342   \n",
       "1  A14VAT5EAX3D9S  1384719342   \n",
       "2  A195EZSQDW3E21  1384719342   \n",
       "3  A2C00NNG1ZQQG2  1384719342   \n",
       "4   A94QU4C90B1AX  1384719342   \n",
       "\n",
       "                                      reviewer_name   helpful  \\\n",
       "0  cassandra tu \"Yeah, well, that's just like, u...    [0, 0]   \n",
       "1                                              Jake  [13, 14]   \n",
       "2                     Rick Bennette \"Rick Bennette\"    [1, 1]   \n",
       "3                         RustyBill \"Sunday Rocker\"    [0, 0]   \n",
       "4                                     SEAN MASLANKA    [0, 0]   \n",
       "\n",
       "                                         review_text  overall  \\\n",
       "0  not much to write about here but it does exact...        5   \n",
       "1  the product does exactly as it should and is q...        5   \n",
       "2  the primary job of this device is to block the...        5   \n",
       "3  nice windscreen protects my mxl mic and preven...        5   \n",
       "4  this pop filter is great it looks and performs...        5   \n",
       "\n",
       "                                 summary  unix_review_time  review_time  \\\n",
       "0                                   good        1393545600  02 28, 2014   \n",
       "1                                   Jake        1363392000  03 16, 2013   \n",
       "2                   It Does The Job Well        1377648000  08 28, 2013   \n",
       "3          GOOD WINDSCREEN FOR THE MONEY        1392336000  02 14, 2014   \n",
       "4  No more pops when I record my vocals.        1392940800  02 21, 2014   \n",
       "\n",
       "   text_len  \n",
       "0       268  \n",
       "1       544  \n",
       "2       436  \n",
       "3       206  \n",
       "4       159  "
      ]
     },
     "execution_count": 11,
     "metadata": {},
     "output_type": "execute_result"
    }
   ],
   "source": [
    "df.head()"
   ]
  },
  {
   "cell_type": "markdown",
   "metadata": {},
   "source": [
    "## Freaquency Check and Upsampling the Data"
   ]
  },
  {
   "cell_type": "code",
   "execution_count": 12,
   "metadata": {},
   "outputs": [],
   "source": [
    "def prune_rating(rating):\n",
    "    if rating < 3:\n",
    "        return 0\n",
    "    elif rating > 3:\n",
    "        return 2\n",
    "    else:\n",
    "        return 1\n",
    "df[\"pruned_rating\"] = df[\"overall\"].apply(lambda x: prune_rating(x))"
   ]
  },
  {
   "cell_type": "code",
   "execution_count": 13,
   "metadata": {},
   "outputs": [],
   "source": [
    "frequency = df.groupby([\"pruned_rating\"]).size().to_dict()\n",
    "max_class = max(frequency, key=frequency.get)\n",
    "max_value = frequency.get(max_class)"
   ]
  },
  {
   "cell_type": "code",
   "execution_count": 12,
   "metadata": {},
   "outputs": [
    {
     "data": {
      "text/plain": [
       "{0: 467, 1: 772, 2: 9015}"
      ]
     },
     "execution_count": 12,
     "metadata": {},
     "output_type": "execute_result"
    }
   ],
   "source": [
    "frequency"
   ]
  },
  {
   "cell_type": "code",
   "execution_count": 14,
   "metadata": {},
   "outputs": [],
   "source": [
    "upsample_list = []\n",
    "for key, value in frequency.items():\n",
    "    if key == max_class:\n",
    "        upsample_list.append(df[df[\"pruned_rating\"] == key])\n",
    "    else:\n",
    "        upsample_list.append(\n",
    "            df[df[\"pruned_rating\"] == key].sample(max_value, replace=True, random_state=103)\n",
    "        )\n",
    "upsampled_df = pd.concat(upsample_list)\n",
    "upsampled_df = upsampled_df.reset_index(drop=True)\n",
    "upsampled_df = upsampled_df.reindex(np.random.permutation(upsampled_df.index))"
   ]
  },
  {
   "cell_type": "code",
   "execution_count": 15,
   "metadata": {},
   "outputs": [
    {
     "data": {
      "text/html": [
       "<div>\n",
       "<style scoped>\n",
       "    .dataframe tbody tr th:only-of-type {\n",
       "        vertical-align: middle;\n",
       "    }\n",
       "\n",
       "    .dataframe tbody tr th {\n",
       "        vertical-align: top;\n",
       "    }\n",
       "\n",
       "    .dataframe thead th {\n",
       "        text-align: right;\n",
       "    }\n",
       "</style>\n",
       "<table border=\"1\" class=\"dataframe\">\n",
       "  <thead>\n",
       "    <tr style=\"text-align: right;\">\n",
       "      <th></th>\n",
       "      <th>_id</th>\n",
       "      <th>asin</th>\n",
       "      <th>reviewer_name</th>\n",
       "      <th>helpful</th>\n",
       "      <th>review_text</th>\n",
       "      <th>overall</th>\n",
       "      <th>summary</th>\n",
       "      <th>unix_review_time</th>\n",
       "      <th>review_time</th>\n",
       "      <th>text_len</th>\n",
       "      <th>pruned_rating</th>\n",
       "    </tr>\n",
       "  </thead>\n",
       "  <tbody>\n",
       "    <tr>\n",
       "      <th>26115</th>\n",
       "      <td>A1ZRXGT8QJXGET</td>\n",
       "      <td>B005FKF3L6</td>\n",
       "      <td>Bob Denton \"BDAZ\"</td>\n",
       "      <td>[0, 0]</td>\n",
       "      <td>easily installed on my parlor guitar the oval ...</td>\n",
       "      <td>5</td>\n",
       "      <td>Well made and good price</td>\n",
       "      <td>1382313600</td>\n",
       "      <td>10 21, 2013</td>\n",
       "      <td>127</td>\n",
       "      <td>2</td>\n",
       "    </tr>\n",
       "    <tr>\n",
       "      <th>21097</th>\n",
       "      <td>AOY459LVUBKLO</td>\n",
       "      <td>B0002OOMW6</td>\n",
       "      <td>Confidential Name</td>\n",
       "      <td>[2, 2]</td>\n",
       "      <td>so far still made in america i have been using...</td>\n",
       "      <td>5</td>\n",
       "      <td>Great Product!</td>\n",
       "      <td>1390521600</td>\n",
       "      <td>01 24, 2014</td>\n",
       "      <td>584</td>\n",
       "      <td>2</td>\n",
       "    </tr>\n",
       "    <tr>\n",
       "      <th>1924</th>\n",
       "      <td>A34WEXT7SIRFE4</td>\n",
       "      <td>B000ULAP4U</td>\n",
       "      <td>@ciscoza</td>\n",
       "      <td>[9, 14]</td>\n",
       "      <td>these cans were decent back when they were jus...</td>\n",
       "      <td>2</td>\n",
       "      <td>Really harsh and uncomfortable.</td>\n",
       "      <td>1328227200</td>\n",
       "      <td>02 3, 2012</td>\n",
       "      <td>1158</td>\n",
       "      <td>0</td>\n",
       "    </tr>\n",
       "    <tr>\n",
       "      <th>20106</th>\n",
       "      <td>A2N7F3MVCTAOYP</td>\n",
       "      <td>B0002GLCRC</td>\n",
       "      <td>Ronnie Roper</td>\n",
       "      <td>[0, 0]</td>\n",
       "      <td>i had purchased one a while back for my electr...</td>\n",
       "      <td>5</td>\n",
       "      <td>Great sturdy guitar hanger</td>\n",
       "      <td>1346284800</td>\n",
       "      <td>08 30, 2012</td>\n",
       "      <td>202</td>\n",
       "      <td>2</td>\n",
       "    </tr>\n",
       "    <tr>\n",
       "      <th>26836</th>\n",
       "      <td>A1LH6RF4UN9VI6</td>\n",
       "      <td>B00B1N06PO</td>\n",
       "      <td>E. D. Garcia \"Biggie-E\"</td>\n",
       "      <td>[6, 7]</td>\n",
       "      <td>i ve tried these out in head to head excuse th...</td>\n",
       "      <td>5</td>\n",
       "      <td>A Good Value!</td>\n",
       "      <td>1365897600</td>\n",
       "      <td>04 14, 2013</td>\n",
       "      <td>717</td>\n",
       "      <td>2</td>\n",
       "    </tr>\n",
       "    <tr>\n",
       "      <th>16461</th>\n",
       "      <td>A3MMISYL1GBXH4</td>\n",
       "      <td>B0002GYW4C</td>\n",
       "      <td>D.T.</td>\n",
       "      <td>[0, 0]</td>\n",
       "      <td>compared to ernie ball s cloth it s good enoug...</td>\n",
       "      <td>3</td>\n",
       "      <td>Nice cloth</td>\n",
       "      <td>1395273600</td>\n",
       "      <td>03 20, 2014</td>\n",
       "      <td>226</td>\n",
       "      <td>1</td>\n",
       "    </tr>\n",
       "    <tr>\n",
       "      <th>16767</th>\n",
       "      <td>A3RFWANBUVX4RA</td>\n",
       "      <td>B000JRPYGE</td>\n",
       "      <td>Arik Burke</td>\n",
       "      <td>[1, 5]</td>\n",
       "      <td>when given a budget for cheap microphones the ...</td>\n",
       "      <td>3</td>\n",
       "      <td>its pretty, but not great</td>\n",
       "      <td>1364774400</td>\n",
       "      <td>04 1, 2013</td>\n",
       "      <td>673</td>\n",
       "      <td>1</td>\n",
       "    </tr>\n",
       "    <tr>\n",
       "      <th>5053</th>\n",
       "      <td>AKHWZ3S1UVZAO</td>\n",
       "      <td>B0002D0CEO</td>\n",
       "      <td>Hagen LeBray</td>\n",
       "      <td>[0, 0]</td>\n",
       "      <td>i ve been playing guitar for over 40 years and...</td>\n",
       "      <td>2</td>\n",
       "      <td>Not the Worst, but Close</td>\n",
       "      <td>1402358400</td>\n",
       "      <td>06 10, 2014</td>\n",
       "      <td>232</td>\n",
       "      <td>0</td>\n",
       "    </tr>\n",
       "    <tr>\n",
       "      <th>1610</th>\n",
       "      <td>A2F92AOWTIUIB</td>\n",
       "      <td>B0002H04NE</td>\n",
       "      <td>StudioDude</td>\n",
       "      <td>[0, 0]</td>\n",
       "      <td>through my ampeg bass amp the low e string get...</td>\n",
       "      <td>2</td>\n",
       "      <td>Low E string gets fuzzy fast, Other strings bl...</td>\n",
       "      <td>1394755200</td>\n",
       "      <td>03 14, 2014</td>\n",
       "      <td>143</td>\n",
       "      <td>0</td>\n",
       "    </tr>\n",
       "    <tr>\n",
       "      <th>20590</th>\n",
       "      <td>A3G40OIPT4I040</td>\n",
       "      <td>B0002H0A3S</td>\n",
       "      <td>Hyun</td>\n",
       "      <td>[0, 0]</td>\n",
       "      <td>far as i can tell good strings they do the job...</td>\n",
       "      <td>5</td>\n",
       "      <td>good strings</td>\n",
       "      <td>1396483200</td>\n",
       "      <td>04 3, 2014</td>\n",
       "      <td>118</td>\n",
       "      <td>2</td>\n",
       "    </tr>\n",
       "  </tbody>\n",
       "</table>\n",
       "</div>"
      ],
      "text/plain": [
       "                  _id        asin            reviewer_name  helpful  \\\n",
       "26115  A1ZRXGT8QJXGET  B005FKF3L6        Bob Denton \"BDAZ\"   [0, 0]   \n",
       "21097   AOY459LVUBKLO  B0002OOMW6        Confidential Name   [2, 2]   \n",
       "1924   A34WEXT7SIRFE4  B000ULAP4U                 @ciscoza  [9, 14]   \n",
       "20106  A2N7F3MVCTAOYP  B0002GLCRC             Ronnie Roper   [0, 0]   \n",
       "26836  A1LH6RF4UN9VI6  B00B1N06PO  E. D. Garcia \"Biggie-E\"   [6, 7]   \n",
       "16461  A3MMISYL1GBXH4  B0002GYW4C                     D.T.   [0, 0]   \n",
       "16767  A3RFWANBUVX4RA  B000JRPYGE               Arik Burke   [1, 5]   \n",
       "5053    AKHWZ3S1UVZAO  B0002D0CEO             Hagen LeBray   [0, 0]   \n",
       "1610    A2F92AOWTIUIB  B0002H04NE               StudioDude   [0, 0]   \n",
       "20590  A3G40OIPT4I040  B0002H0A3S                     Hyun   [0, 0]   \n",
       "\n",
       "                                             review_text  overall  \\\n",
       "26115  easily installed on my parlor guitar the oval ...        5   \n",
       "21097  so far still made in america i have been using...        5   \n",
       "1924   these cans were decent back when they were jus...        2   \n",
       "20106  i had purchased one a while back for my electr...        5   \n",
       "26836  i ve tried these out in head to head excuse th...        5   \n",
       "16461  compared to ernie ball s cloth it s good enoug...        3   \n",
       "16767  when given a budget for cheap microphones the ...        3   \n",
       "5053   i ve been playing guitar for over 40 years and...        2   \n",
       "1610   through my ampeg bass amp the low e string get...        2   \n",
       "20590  far as i can tell good strings they do the job...        5   \n",
       "\n",
       "                                                 summary  unix_review_time  \\\n",
       "26115                           Well made and good price        1382313600   \n",
       "21097                                     Great Product!        1390521600   \n",
       "1924                     Really harsh and uncomfortable.        1328227200   \n",
       "20106                         Great sturdy guitar hanger        1346284800   \n",
       "26836                                      A Good Value!        1365897600   \n",
       "16461                                         Nice cloth        1395273600   \n",
       "16767                          its pretty, but not great        1364774400   \n",
       "5053                            Not the Worst, but Close        1402358400   \n",
       "1610   Low E string gets fuzzy fast, Other strings bl...        1394755200   \n",
       "20590                                       good strings        1396483200   \n",
       "\n",
       "       review_time  text_len  pruned_rating  \n",
       "26115  10 21, 2013       127              2  \n",
       "21097  01 24, 2014       584              2  \n",
       "1924    02 3, 2012      1158              0  \n",
       "20106  08 30, 2012       202              2  \n",
       "26836  04 14, 2013       717              2  \n",
       "16461  03 20, 2014       226              1  \n",
       "16767   04 1, 2013       673              1  \n",
       "5053   06 10, 2014       232              0  \n",
       "1610   03 14, 2014       143              0  \n",
       "20590   04 3, 2014       118              2  "
      ]
     },
     "execution_count": 15,
     "metadata": {},
     "output_type": "execute_result"
    }
   ],
   "source": [
    "upsampled_df.head(10)"
   ]
  },
  {
   "cell_type": "code",
   "execution_count": 16,
   "metadata": {},
   "outputs": [
    {
     "data": {
      "text/plain": [
       "{0: 9015, 1: 9015, 2: 9015}"
      ]
     },
     "execution_count": 16,
     "metadata": {},
     "output_type": "execute_result"
    }
   ],
   "source": [
    "upsampled_df.groupby([\"pruned_rating\"]).size().to_dict()"
   ]
  },
  {
   "cell_type": "code",
   "execution_count": 16,
   "metadata": {},
   "outputs": [],
   "source": [
    "(\n",
    "    upsampled_df[[\"_id\", \"review_text\", \"overall\"]]\n",
    "    .to_csv(\n",
    "        \"../datalake/feed/version_{}.csv\".format(str(dt.today())), \n",
    "        index=False, \n",
    "        encoding='utf-8'\n",
    "    )\n",
    ")"
   ]
  },
  {
   "cell_type": "markdown",
   "metadata": {},
   "source": [
    "# Model Training"
   ]
  },
  {
   "cell_type": "code",
   "execution_count": 18,
   "metadata": {},
   "outputs": [],
   "source": [
    "import spacy"
   ]
  },
  {
   "cell_type": "code",
   "execution_count": 19,
   "metadata": {},
   "outputs": [],
   "source": [
    "nlp = spacy.load('en_core_web_md')"
   ]
  },
  {
   "cell_type": "code",
   "execution_count": 20,
   "metadata": {},
   "outputs": [],
   "source": [
    "def tokenizer_lemma(sentence):\n",
    "    return [token.lemma_ for token in nlp(sentence)]"
   ]
  },
  {
   "cell_type": "code",
   "execution_count": 21,
   "metadata": {},
   "outputs": [],
   "source": [
    "def tokenizer(sentence):\n",
    "    return text.split()"
   ]
  },
  {
   "cell_type": "code",
   "execution_count": 24,
   "metadata": {},
   "outputs": [],
   "source": [
    "stop = list(spacy.lang.en.stop_words.STOP_WORDS)"
   ]
  },
  {
   "cell_type": "markdown",
   "metadata": {},
   "source": [
    "## Load the Data"
   ]
  },
  {
   "cell_type": "code",
   "execution_count": null,
   "metadata": {},
   "outputs": [],
   "source": []
  },
  {
   "cell_type": "markdown",
   "metadata": {},
   "source": [
    "# Test Code"
   ]
  },
  {
   "cell_type": "markdown",
   "metadata": {},
   "source": [
    "#### Bag Of Words"
   ]
  },
  {
   "cell_type": "code",
   "execution_count": 18,
   "metadata": {},
   "outputs": [],
   "source": [
    "from sklearn.feature_extraction.text import CountVectorizer"
   ]
  },
  {
   "cell_type": "code",
   "execution_count": 19,
   "metadata": {},
   "outputs": [],
   "source": [
    "count = CountVectorizer()"
   ]
  },
  {
   "cell_type": "code",
   "execution_count": 20,
   "metadata": {},
   "outputs": [],
   "source": [
    "docs = np.array(['The sun is shining',\n",
    "'The weather is sweet',\n",
    "'The sun is shining, the weather is sweet,'\n",
    "'and one and one is two'])"
   ]
  },
  {
   "cell_type": "code",
   "execution_count": 22,
   "metadata": {},
   "outputs": [],
   "source": [
    "bag = count.fit_transform(docs)"
   ]
  },
  {
   "cell_type": "code",
   "execution_count": 24,
   "metadata": {},
   "outputs": [
    {
     "name": "stdout",
     "output_type": "stream",
     "text": [
      "{'the': 6, 'sun': 4, 'is': 1, 'shining': 3, 'weather': 8, 'sweet': 5, 'and': 0, 'one': 2, 'two': 7}\n"
     ]
    }
   ],
   "source": [
    "print(count.vocabulary_)"
   ]
  },
  {
   "cell_type": "code",
   "execution_count": 25,
   "metadata": {},
   "outputs": [
    {
     "data": {
      "text/plain": [
       "array([[0, 1, 0, 1, 1, 0, 1, 0, 0],\n",
       "       [0, 1, 0, 0, 0, 1, 1, 0, 1],\n",
       "       [2, 3, 2, 1, 1, 1, 2, 1, 1]])"
      ]
     },
     "execution_count": 25,
     "metadata": {},
     "output_type": "execute_result"
    }
   ],
   "source": [
    "bag.toarray()"
   ]
  },
  {
   "cell_type": "code",
   "execution_count": 26,
   "metadata": {},
   "outputs": [],
   "source": [
    "from sklearn.feature_extraction.text import TfidfTransformer"
   ]
  },
  {
   "cell_type": "code",
   "execution_count": 27,
   "metadata": {},
   "outputs": [],
   "source": [
    "tfidf = TfidfTransformer(use_idf=True, norm='l2', smooth_idf=True)"
   ]
  },
  {
   "cell_type": "code",
   "execution_count": 28,
   "metadata": {},
   "outputs": [],
   "source": [
    "np.set_printoptions(precision=2)"
   ]
  },
  {
   "cell_type": "code",
   "execution_count": 29,
   "metadata": {},
   "outputs": [
    {
     "name": "stdout",
     "output_type": "stream",
     "text": [
      "[[0.   0.43 0.   0.56 0.56 0.   0.43 0.   0.  ]\n",
      " [0.   0.43 0.   0.   0.   0.56 0.43 0.   0.56]\n",
      " [0.5  0.45 0.5  0.19 0.19 0.19 0.3  0.25 0.19]]\n"
     ]
    }
   ],
   "source": [
    "print(tfidf.fit_transform(count.fit_transform(docs)).toarray())"
   ]
  },
  {
   "cell_type": "code",
   "execution_count": 30,
   "metadata": {},
   "outputs": [],
   "source": [
    "## Token and Lemma"
   ]
  },
  {
   "cell_type": "code",
   "execution_count": 32,
   "metadata": {},
   "outputs": [],
   "source": [
    "import spacy\n",
    "nlp = spacy.load('en_core_web_md')"
   ]
  },
  {
   "cell_type": "code",
   "execution_count": 45,
   "metadata": {},
   "outputs": [],
   "source": [
    "about_text = ('Gus Proto was a Python developer while ago. But now going to be a rockstars')"
   ]
  },
  {
   "cell_type": "code",
   "execution_count": 46,
   "metadata": {},
   "outputs": [],
   "source": [
    "about_doc = nlp(about_text)"
   ]
  },
  {
   "cell_type": "code",
   "execution_count": 43,
   "metadata": {},
   "outputs": [
    {
     "data": {
      "text/plain": [
       "[Gus Proto was a Python developer while ago., But now going to be a rockstar]"
      ]
     },
     "execution_count": 43,
     "metadata": {},
     "output_type": "execute_result"
    }
   ],
   "source": [
    "list(about_doc.sents)"
   ]
  },
  {
   "cell_type": "code",
   "execution_count": 48,
   "metadata": {},
   "outputs": [],
   "source": [
    "def tokenizer(sentence):\n",
    "    doc = nlp(sentence)\n",
    "    return [token.lemma_ for token in doc]"
   ]
  },
  {
   "cell_type": "code",
   "execution_count": 50,
   "metadata": {},
   "outputs": [
    {
     "data": {
      "text/plain": [
       "['a',\n",
       " 'letter',\n",
       " 'have',\n",
       " 'be',\n",
       " 'write',\n",
       " ',',\n",
       " 'ask',\n",
       " '-PRON-',\n",
       " 'to',\n",
       " 'be',\n",
       " 'release',\n",
       " '!']"
      ]
     },
     "execution_count": 50,
     "metadata": {},
     "output_type": "execute_result"
    }
   ],
   "source": [
    "tokenizer(\"A letter has been written, asking him to be released!\")"
   ]
  }
 ],
 "metadata": {
  "kernelspec": {
   "display_name": "Python 3",
   "language": "python",
   "name": "python3"
  },
  "language_info": {
   "codemirror_mode": {
    "name": "ipython",
    "version": 3
   },
   "file_extension": ".py",
   "mimetype": "text/x-python",
   "name": "python",
   "nbconvert_exporter": "python",
   "pygments_lexer": "ipython3",
   "version": "3.7.7"
  }
 },
 "nbformat": 4,
 "nbformat_minor": 4
}
